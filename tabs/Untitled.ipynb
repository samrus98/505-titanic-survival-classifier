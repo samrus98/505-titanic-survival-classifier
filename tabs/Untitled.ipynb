{
 "cells": [
  {
   "cell_type": "code",
   "execution_count": 2,
   "id": "b6946602-3986-4ef9-bcc4-7a025371e303",
   "metadata": {},
   "outputs": [
    {
     "name": "stdout",
     "output_type": "stream",
     "text": [
      "Requirement already satisfied: mkdocs in /home/studio-lab-user/.conda/envs/default/lib/python3.9/site-packages (1.3.0)\n",
      "Requirement already satisfied: Markdown>=3.2.1 in /home/studio-lab-user/.conda/envs/default/lib/python3.9/site-packages (from mkdocs) (3.3.7)\n",
      "Requirement already satisfied: watchdog>=2.0 in /home/studio-lab-user/.conda/envs/default/lib/python3.9/site-packages (from mkdocs) (2.1.8)\n",
      "Requirement already satisfied: mergedeep>=1.3.4 in /home/studio-lab-user/.conda/envs/default/lib/python3.9/site-packages (from mkdocs) (1.3.4)\n",
      "Requirement already satisfied: Jinja2>=2.10.2 in /home/studio-lab-user/.conda/envs/default/lib/python3.9/site-packages (from mkdocs) (3.0.3)\n",
      "Requirement already satisfied: ghp-import>=1.0 in /home/studio-lab-user/.conda/envs/default/lib/python3.9/site-packages (from mkdocs) (2.1.0)\n",
      "Requirement already satisfied: pyyaml-env-tag>=0.1 in /home/studio-lab-user/.conda/envs/default/lib/python3.9/site-packages (from mkdocs) (0.1)\n",
      "Requirement already satisfied: importlib-metadata>=4.3 in /home/studio-lab-user/.conda/envs/default/lib/python3.9/site-packages (from mkdocs) (4.8.2)\n",
      "Requirement already satisfied: PyYAML>=3.10 in /home/studio-lab-user/.conda/envs/default/lib/python3.9/site-packages (from mkdocs) (6.0)\n",
      "Requirement already satisfied: packaging>=20.5 in /home/studio-lab-user/.conda/envs/default/lib/python3.9/site-packages (from mkdocs) (21.3)\n",
      "Requirement already satisfied: click>=3.3 in /home/studio-lab-user/.conda/envs/default/lib/python3.9/site-packages (from mkdocs) (8.1.3)\n",
      "Requirement already satisfied: python-dateutil>=2.8.1 in /home/studio-lab-user/.conda/envs/default/lib/python3.9/site-packages (from ghp-import>=1.0->mkdocs) (2.8.2)\n",
      "Requirement already satisfied: zipp>=0.5 in /home/studio-lab-user/.conda/envs/default/lib/python3.9/site-packages (from importlib-metadata>=4.3->mkdocs) (3.6.0)\n",
      "Requirement already satisfied: MarkupSafe>=2.0 in /home/studio-lab-user/.conda/envs/default/lib/python3.9/site-packages (from Jinja2>=2.10.2->mkdocs) (2.0.1)\n",
      "Requirement already satisfied: pyparsing!=3.0.5,>=2.0.2 in /home/studio-lab-user/.conda/envs/default/lib/python3.9/site-packages (from packaging>=20.5->mkdocs) (3.0.6)\n",
      "Requirement already satisfied: six>=1.5 in /home/studio-lab-user/.conda/envs/default/lib/python3.9/site-packages (from python-dateutil>=2.8.1->ghp-import>=1.0->mkdocs) (1.16.0)\n"
     ]
    }
   ],
   "source": [
    "!pip install mkdocs"
   ]
  },
  {
   "cell_type": "code",
   "execution_count": null,
   "id": "242bbf6a-7629-410a-8084-872b2a68ba35",
   "metadata": {},
   "outputs": [],
   "source": []
  }
 ],
 "metadata": {
  "kernelspec": {
   "display_name": "default:Python",
   "language": "python",
   "name": "conda-env-default-py"
  },
  "language_info": {
   "codemirror_mode": {
    "name": "ipython",
    "version": 3
   },
   "file_extension": ".py",
   "mimetype": "text/x-python",
   "name": "python",
   "nbconvert_exporter": "python",
   "pygments_lexer": "ipython3",
   "version": "3.9.10"
  }
 },
 "nbformat": 4,
 "nbformat_minor": 5
}
